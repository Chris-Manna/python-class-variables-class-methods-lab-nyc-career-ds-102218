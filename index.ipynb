{
 "cells": [
  {
   "cell_type": "markdown",
   "metadata": {},
   "source": [
    "# Python Class Variables and Class Methods Lab"
   ]
  },
  {
   "cell_type": "markdown",
   "metadata": {},
   "source": [
    "## Introduction\n",
    "In this lab, we are going to put our skills to the test by creating class methods and class variables that will help our program remember instance objects and allow us to operate on these objects in interesting ways. We will be working with a Driver class, which we can define in our file, `driver.py`."
   ]
  },
  {
   "cell_type": "markdown",
   "metadata": {},
   "source": [
    "## Objectives\n",
    "* Use class variables to keep track of data pertaining to a class\n",
    "* Define class methods that expose data pertaining to a class"
   ]
  },
  {
   "cell_type": "markdown",
   "metadata": {},
   "source": [
    "## Instructions"
   ]
  },
  {
   "cell_type": "markdown",
   "metadata": {},
   "source": [
    "Okay, so, we have a fleet of drivers and we want to be able to make queries to get details about all of these drivers. Our Driver class should have two class variables; `_all` and `_count`. The `_all` class variable should be assigned to a list that keeps track of all instance objects for the Driver class. The `_count` class variable should keep track of the number of drivers in our fleet. Initially, we wont have any drivers, so it should be set to `0`."
   ]
  },
  {
   "cell_type": "markdown",
   "metadata": {},
   "source": [
    "> **Note:** remember to re-load code from another file, we need to re-run the cell that imports it in our jupyter notebook\n"
   ]
  },
  {
   "cell_type": "code",
   "execution_count": 96,
   "metadata": {},
   "outputs": [],
   "source": [
    "# from driver import Driver\n",
    "import matplotlib.pyplot as plt\n",
    "import numpy as np\n",
    "\n",
    "class Driver():\n",
    "    _all = [] # a list that keeps track of all instance objects for the Driver class\n",
    "    _count = 0 # keep track of the number of drivers in our fleet\n",
    "    def __init__(self, name, car_make, car_model):\n",
    "        self._name = name\n",
    "        self._car_make = car_make\n",
    "        self._car_model = car_model\n",
    "        Driver._count += 1\n",
    "        Driver._all.append(self)\n",
    "    \n",
    "    @property\n",
    "    def name(self):\n",
    "        print(\"getting name of Driver instance\")\n",
    "        return self._name\n",
    "    \n",
    "    @name.setter\n",
    "    def name(self, new_name):\n",
    "        print(\"setting name of Driver instance\")\n",
    "        self._name = new_name\n",
    "    \n",
    "    @property\n",
    "    def car_make(self):\n",
    "        print(\"getting car_make of Driver instance\")\n",
    "        return self._car_make\n",
    "    \n",
    "    @car_make.setter\n",
    "    def car_make(self, new_car_make):\n",
    "        print(\"setting car_make of Drive instance\")\n",
    "        self._car_make = new_car_make\n",
    "    \n",
    "    @property\n",
    "    def car_model(self):\n",
    "        print(\"getting car_model of Driver instance\")\n",
    "        return self._car_model\n",
    "    \n",
    "    @car_model.setter\n",
    "    def car_model(self, new_car_model):\n",
    "        print(\"setting car_model of Drive instance\")\n",
    "        self._car_model = new_car_model\n",
    "    \n",
    "    @classmethod\n",
    "    def fleet_size(cls):\n",
    "        print(\"getting Drive._count\")\n",
    "        return cls._count\n",
    "    \n",
    "    @classmethod\n",
    "    def driver_names(cls):\n",
    "        print(\"getting driver names of Driver class\")\n",
    "        return [person.name for person in cls._all]\n",
    "    \n",
    "    @classmethod\n",
    "    def fleet_makes(cls):\n",
    "        print(\"getting fleet_makes of Driver class\")\n",
    "        return [person.car_make for person in cls._all]\n",
    "    \n",
    "    @classmethod\n",
    "    def fleet_models(cls):\n",
    "        print(\"getting fleet_models of Driver class\")\n",
    "        return [person.car_model for person in cls._all]\n",
    "    \n",
    "    @classmethod\n",
    "    def fleet_makes_count(cls):\n",
    "        list_of_fleet_makes = Driver.fleet_makes()\n",
    "        \n",
    "        %matplotlib inline\n",
    "        x = list_of_fleet_makes\n",
    "        plt.hist(x, normed=True)\n",
    "        plt.ylabel('Probability');\n",
    "        pass"
   ]
  },
  {
   "cell_type": "markdown",
   "metadata": {},
   "source": [
    "We want our drivers to have the following attributes; `name`, `car_make`, and `car_model`. Again, by convention these attributes should have a leading underscore and be snakecased where appropriate. We will also want to define instance methods using the appropriate decorator to read (get) all of these attributes."
   ]
  },
  {
   "cell_type": "code",
   "execution_count": 97,
   "metadata": {},
   "outputs": [
    {
     "data": {
      "text/plain": [
       "<__main__.Driver at 0x7fd1642a6828>"
      ]
     },
     "execution_count": 97,
     "metadata": {},
     "output_type": "execute_result"
    }
   ],
   "source": [
    "# helga_driver = Driver(\"Helga Pataki\", \"Toyota\", \"Camry\")\n",
    "Driver(\"Helga Pataki\", \"Toyota\", \"Camry\")\n",
    "Driver(\"Arnold Shortman\", \"Toyota\", \"Highlander\")\n",
    "Driver(\"Gerald Johanssen\", \"Toyota\", \"Camry\")\n",
    "Driver(\"Robert 'Big Bob' Pataki\", \"Honda\", \"Pilot\")\n",
    "Driver(\"Grandpa Phil\", \"Jeep\", \"Grand Cherokee\")\n",
    "Driver(\"Rhonda Wellington Lloyd\", \"Kia\", \"Sonata\")\n",
    "Driver(\"Phoebe Heyerdahl\", \"Honda\", \"Civic\")\n",
    "\n",
    "# print(helga_driver.name)"
   ]
  },
  {
   "cell_type": "markdown",
   "metadata": {},
   "source": [
    "Great! Now, onto the more fun stuff. Let's create a few different instance methods that will help us answer questions like how many drivers do we currently have in our fleet? What percent of drivers drive a Toyota and of that, how many drive a Camry? Or more generally, which car make/models do our drivers drive?\n",
    "\n",
    "To do this, our class will need to have the two class varibles we mentioned earlier, `_all` and `_count`, as well as the class methods listed below:"
   ]
  },
  {
   "cell_type": "markdown",
   "metadata": {},
   "source": [
    "> **Note:** although it is not necessary, feel free to use more class variables such as `_car_makes` or `_car_models`. Also, consider when is the best time to increment our `_count` class variable or add a new instance object to our `_all` list? It should be the last two lines in our `__init__` method after we have instantiated our instance object and instance variables.\n",
    "\n",
    "```python\n",
    "class Person:\n",
    "    \n",
    "    _all = []\n",
    "    _count = 0\n",
    "    \n",
    "    def __init__(self, cls, name, age):\n",
    "        self.name = name\n",
    "        self.age = age\n",
    "        # call class method to append `self` to _all\n",
    "        # call class method to increment _count by 1\n",
    "        \n",
    "```"
   ]
  },
  {
   "cell_type": "code",
   "execution_count": 98,
   "metadata": {},
   "outputs": [
    {
     "name": "stdout",
     "output_type": "stream",
     "text": [
      "getting Drive._count\n"
     ]
    },
    {
     "data": {
      "text/plain": [
       "7"
      ]
     },
     "execution_count": 98,
     "metadata": {},
     "output_type": "execute_result"
    }
   ],
   "source": [
    "Driver.fleet_size() # returns the number of drivers in the fleet\n",
    "# example: 7"
   ]
  },
  {
   "cell_type": "code",
   "execution_count": 99,
   "metadata": {},
   "outputs": [
    {
     "name": "stdout",
     "output_type": "stream",
     "text": [
      "getting driver names of Driver class\n",
      "getting name of Driver instance\n",
      "getting name of Driver instance\n",
      "getting name of Driver instance\n",
      "getting name of Driver instance\n",
      "getting name of Driver instance\n",
      "getting name of Driver instance\n",
      "getting name of Driver instance\n"
     ]
    },
    {
     "data": {
      "text/plain": [
       "['Helga Pataki',\n",
       " 'Arnold Shortman',\n",
       " 'Gerald Johanssen',\n",
       " \"Robert 'Big Bob' Pataki\",\n",
       " 'Grandpa Phil',\n",
       " 'Rhonda Wellington Lloyd',\n",
       " 'Phoebe Heyerdahl']"
      ]
     },
     "execution_count": 99,
     "metadata": {},
     "output_type": "execute_result"
    }
   ],
   "source": [
    "Driver.driver_names() # returns a list of driver names as strings\n",
    "# example: ['Helga Pataki', 'Arnold Shortman','Gerald Johanssen', \n",
    "# \"Robert 'Big Bob' Pataki\", 'Grandpa Phil', 'Rhonda Wellington Lloyd',\n",
    "# 'Phoebe Heyerdahl']"
   ]
  },
  {
   "cell_type": "code",
   "execution_count": 100,
   "metadata": {},
   "outputs": [
    {
     "name": "stdout",
     "output_type": "stream",
     "text": [
      "getting fleet_makes of Driver class\n",
      "getting car_make of Driver instance\n",
      "getting car_make of Driver instance\n",
      "getting car_make of Driver instance\n",
      "getting car_make of Driver instance\n",
      "getting car_make of Driver instance\n",
      "getting car_make of Driver instance\n",
      "getting car_make of Driver instance\n"
     ]
    },
    {
     "data": {
      "text/plain": [
       "['Toyota', 'Toyota', 'Toyota', 'Honda', 'Jeep', 'Kia', 'Honda']"
      ]
     },
     "execution_count": 100,
     "metadata": {},
     "output_type": "execute_result"
    }
   ],
   "source": [
    "Driver.fleet_makes() # returns a list of car makes in the fleet\n",
    "# example: ['Toyota', 'Toyota', 'Toyota', 'Honda', 'Jeep', 'Kia', 'Honda']"
   ]
  },
  {
   "cell_type": "code",
   "execution_count": 101,
   "metadata": {},
   "outputs": [
    {
     "name": "stdout",
     "output_type": "stream",
     "text": [
      "getting fleet_models of Driver class\n",
      "getting car_model of Driver instance\n",
      "getting car_model of Driver instance\n",
      "getting car_model of Driver instance\n",
      "getting car_model of Driver instance\n",
      "getting car_model of Driver instance\n",
      "getting car_model of Driver instance\n",
      "getting car_model of Driver instance\n"
     ]
    },
    {
     "data": {
      "text/plain": [
       "['Camry', 'Highlander', 'Camry', 'Pilot', 'Grand Cherokee', 'Sonata', 'Civic']"
      ]
     },
     "execution_count": 101,
     "metadata": {},
     "output_type": "execute_result"
    }
   ],
   "source": [
    "Driver.fleet_models() # returns a list of car models in the fleet\n",
    "# example: ['Camry', 'Highlander', 'Camry', 'Pilot', 'Grand Cherokee', 'Sonata', 'Civic']"
   ]
  },
  {
   "cell_type": "code",
   "execution_count": 102,
   "metadata": {},
   "outputs": [
    {
     "name": "stdout",
     "output_type": "stream",
     "text": [
      "getting fleet_makes of Driver class\n",
      "getting car_make of Driver instance\n",
      "getting car_make of Driver instance\n",
      "getting car_make of Driver instance\n",
      "getting car_make of Driver instance\n",
      "getting car_make of Driver instance\n",
      "getting car_make of Driver instance\n",
      "getting car_make of Driver instance\n"
     ]
    },
    {
     "name": "stderr",
     "output_type": "stream",
     "text": [
      "/opt/conda/envs/learn-env/lib/python3.6/site-packages/matplotlib/axes/_axes.py:6499: MatplotlibDeprecationWarning: \n",
      "The 'normed' kwarg was deprecated in Matplotlib 2.1 and will be removed in 3.1. Use 'density' instead.\n",
      "  alternative=\"'density'\", removal=\"3.1\")\n"
     ]
    },
    {
     "data": {
      "image/png": "[encoded data removed]",
      "text/plain": [
       "<Figure size 432x288 with 1 Axes>"
      ]
     },
     "metadata": {
      "needs_background": "light"
     },
     "output_type": "display_data"
    }
   ],
   "source": [
    "Driver.fleet_makes_count() \n",
    "# returns a dictionary containing a histogram with the key of a car make \n",
    "# pointing to the number of cars of that make in the fleet\n",
    "# example: {'Honda': 2, 'Jeep': 1, 'Kia': 1, 'Toyota': 3}"
   ]
  },
  {
   "cell_type": "code",
   "execution_count": null,
   "metadata": {},
   "outputs": [],
   "source": [
    "Driver.fleet_models_count() \n",
    "# returns a list of dictionaries as histograms with the key of a car model\n",
    "# pointing to the number of cars of that model in the fleet\n",
    "# example: {'Camry': 2, 'Civic': 1, 'Grand Cherokee': 1, 'Highlander': 1, 'Pilot': 1, 'Sonata': 1}"
   ]
  },
  {
   "cell_type": "code",
   "execution_count": null,
   "metadata": {},
   "outputs": [],
   "source": [
    "Driver.percent_of_fleet(\"Toyota\") \n",
    "# returns the percentage of Toyotas in the fleet\n",
    "# example: 45.857%"
   ]
  },
  {
   "cell_type": "markdown",
   "metadata": {},
   "source": [
    "> **Hint:** for the last method, `percent_of_fleet`, you will need to return a string that represents the percentage  as a float with the percent sign at the end of the string. We can use the `float()` and `str()` functions to accomplish this as well as concating strings to add the `%` sign:"
   ]
  },
  {
   "cell_type": "code",
   "execution_count": null,
   "metadata": {},
   "outputs": [],
   "source": [
    "num = float((2/10)*100)\n",
    "num_string = str(num)\n",
    "percent = num_string + \"%\"\n",
    "percent"
   ]
  },
  {
   "cell_type": "markdown",
   "metadata": {},
   "source": [
    "## Summary\n",
    "In this lab we practiced using class methods and class variables to both store our class's instance objects and operate on them in order to provide answers to our questions about the fleet. We might have noticed that the Driver class is getting pretty inflated with these querying methods. Perhaps there is a way we can structure our code to make this a bit cleaner for us? Maybe we could have another class that has these query methods that we use in our other classes? Let's find out!"
   ]
  }
 ],
 "metadata": {
  "kernelspec": {
   "display_name": "Python 3",
   "language": "python",
   "name": "python3"
  },
  "language_info": {
   "codemirror_mode": {
    "name": "ipython",
    "version": 3
   },
   "file_extension": ".py",
   "mimetype": "text/x-python",
   "name": "python",
   "nbconvert_exporter": "python",
   "pygments_lexer": "ipython3",
   "version": "3.6.6"
  }
 },
 "nbformat": 4,
 "nbformat_minor": 2
}
